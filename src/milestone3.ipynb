{
 "cells": [
  {
   "cell_type": "markdown",
   "metadata": {},
   "source": [
    "# Spotify Data EDA"
   ]
  },
  {
   "cell_type": "markdown",
   "metadata": {},
   "source": [
    "## data collection"
   ]
  },
  {
   "cell_type": "markdown",
   "metadata": {},
   "source": [
    "* Use Spotipy to get Spotify public playlists data\n",
    "* For each playlist, we get our response variable: # of followers\n",
    "* For predictors, we pick the following attributes:\n",
    "    * the number of tracks in the playlist\n",
    "    * Artists info (for this part, we mainly focus on the popularity of artists in each track)\n",
    "        * We calculated the mean popularity of all artists in the playlist\n",
    "        * And the standard deviation, which might tell us some information about variaty of the playlists\n",
    "    * Avaiable markets: if this playlist can reach wider range, it might get more followers"
   ]
  },
  {
   "cell_type": "code",
   "execution_count": 181,
   "metadata": {
    "collapsed": true
   },
   "outputs": [],
   "source": [
    "import pandas as pd \n",
    "import numpy as np\n",
    "import spotipy\n",
    "from spotipy.oauth2 import SpotifyClientCredentials\n",
    "\n",
    "client_credentials_manager = SpotifyClientCredentials(client_id, client_secret)\n",
    "sp = spotipy.Spotify(client_credentials_manager=client_credentials_manager)\n",
    "\n",
    "playlists = sp.user_playlists('spotify')\n",
    "playlists_data = []\n",
    "while playlists:\n",
    "    for i, playlist in enumerate(playlists['items']):\n",
    "        playlist_data = {}\n",
    "        playlist_data[\"songs\"] = []\n",
    "        \n",
    "        uri = playlist[\"uri\"]\n",
    "        username = uri.split(':')[2]\n",
    "        playlist_id = uri.split(':')[4]\n",
    "        \n",
    "        results = sp.user_playlist(username, playlist_id)\n",
    "        \n",
    "        playlist_data[\"playlist_id\"] = playlist_id\n",
    "\n",
    "        playlist_data[\"followers\"] = results['followers']['total']\n",
    "        \n",
    "        playlist_data[\"tracks_num\"] = playlist['tracks']['total']\n",
    "        \n",
    "        playlist_data[\"name\"] = playlist[\"name\"]\n",
    "        if i%100 == 0:\n",
    "            print(i,playlist_data[\"name\"])\n",
    "        \n",
    "        tracks = sp.user_playlist_tracks(\"spotify\",playlist_id)\n",
    "        markets = []\n",
    "        pop = []\n",
    "        for j in range(tracks_num):\n",
    "            try:\n",
    "                playlist_data[\"songs\"].append(tracks[\"items\"][j][\"track\"]['name']) \n",
    "                \n",
    "                market = tracks[\"items\"][i][\"track\"][\"available_markets\"]\n",
    "                markets = list(set().union(markets,market))\n",
    "                \n",
    "                pop.append(tracks[\"items\"][j][\"track\"]['popularity'])\n",
    "                \n",
    "            except:\n",
    "                continue\n",
    "        playlist_data[\"avaiable_market\"] = len(markets)\n",
    "        if pop != []:\n",
    "            playlist_data[\"pop_mean\"] = np.mean(pop)\n",
    "            playlist_data[\"pop_std\"] = np.std(pop)\n",
    "        else:\n",
    "            playlist_data[\"pop_mean\"] = np.nan\n",
    "            playlist_data[\"pop_std\"] = np.nan\n",
    "\n",
    "        playlists_data.append(playlist_data)\n",
    "    \n",
    "    if playlists['next']:\n",
    "        playlists = sp.next(playlists)\n",
    "    else:\n",
    "        playlists = None"
   ]
  },
  {
   "cell_type": "markdown",
   "metadata": {},
   "source": [
    "## Store data in json form and read"
   ]
  },
  {
   "cell_type": "code",
   "execution_count": 2,
   "metadata": {
    "collapsed": true
   },
   "outputs": [],
   "source": [
    "import json\n",
    "# with open(\"playlists_data.json\",\"w\") as js:\n",
    "#     json.dump(playlists_data,js)\n",
    "# playlists_dataframe = pd.DataFrame.from_dict(playlists_data)\n",
    "# playlists_dataframe.to_json(\"playlists_df.json\")"
   ]
  },
  {
   "cell_type": "code",
   "execution_count": 3,
   "metadata": {},
   "outputs": [],
   "source": [
    "# playlists_dataframe= pd.read_json(\"playlists_df.json\")\n",
    "with open('data.json','r') as js:\n",
    "    pl=json.load(js)"
   ]
  },
  {
   "cell_type": "code",
   "execution_count": 4,
   "metadata": {
    "collapsed": true,
    "scrolled": true
   },
   "outputs": [],
   "source": [
    "def audio_features(self, tracks=[]):\n",
    "    \"\"\" Get audio features for one or multiple tracks based upon their Spotify IDs\n",
    "    Parameters:\n",
    "    - tracks - a list of track URIs, URLs or IDs, maximum: 50 ids\n",
    "    \"\"\"\n",
    "    if isinstance(tracks, str):\n",
    "        trackid = self._get_id('track', tracks)\n",
    "        results = self._get('audio-features/?ids=' + trackid)\n",
    "    else:\n",
    "        tlist = [self._get_id('track', t) for t in tracks]\n",
    "        results = self._get('audio-features/?ids=' + ','.join(tlist))\n",
    "    # the response has changed, look for the new style first, and if\n",
    "    # its not there, fallback on the old style\n",
    "    if 'audio_features' in results:\n",
    "        return results['audio_features']\n",
    "    else:\n",
    "        return results"
   ]
  },
  {
   "cell_type": "code",
   "execution_count": 13,
   "metadata": {},
   "outputs": [],
   "source": [
    "with open('data.json','r') as js:\n",
    "    pl=json.load(js)"
   ]
  },
  {
   "cell_type": "code",
   "execution_count": 11,
   "metadata": {},
   "outputs": [
    {
     "data": {
      "text/plain": [
       "Index(['list', 'tracks'], dtype='object')"
      ]
     },
     "execution_count": 11,
     "metadata": {},
     "output_type": "execute_result"
    }
   ],
   "source": [
    "for playlist in pl:\n",
    "    for track in playlist['tracks']:\n",
    "        if track != None:\n",
    "            name=track['artists']['name']"
   ]
  },
  {
   "cell_type": "code",
   "execution_count": null,
   "metadata": {
    "collapsed": true
   },
   "outputs": [],
   "source": []
  },
  {
   "cell_type": "code",
   "execution_count": 8,
   "metadata": {
    "collapsed": true
   },
   "outputs": [],
   "source": []
  },
  {
   "cell_type": "code",
   "execution_count": null,
   "metadata": {
    "collapsed": true
   },
   "outputs": [],
   "source": []
  },
  {
   "cell_type": "code",
   "execution_count": null,
   "metadata": {
    "collapsed": true
   },
   "outputs": [],
   "source": []
  }
 ],
 "metadata": {
  "kernelspec": {
   "display_name": "Python 3",
   "language": "python",
   "name": "python3"
  },
  "language_info": {
   "codemirror_mode": {
    "name": "ipython",
    "version": 3
   },
   "file_extension": ".py",
   "mimetype": "text/x-python",
   "name": "python",
   "nbconvert_exporter": "python",
   "pygments_lexer": "ipython3",
   "version": "3.6.1"
  }
 },
 "nbformat": 4,
 "nbformat_minor": 2
}
