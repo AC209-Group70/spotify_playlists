{
 "cells": [
  {
   "cell_type": "markdown",
   "metadata": {},
   "source": [
    "# Modeling Process"
   ]
  },
  {
   "cell_type": "markdown",
   "metadata": {},
   "source": [
    "#### The Model list\n",
    "\n",
    "* Linear Regression with one feature (Simplest)\n",
    "* Linear Regression with all features\n",
    "* Ridge Regression\n",
    "* Lasso Regression\n",
    "* Polynomial Regression\n",
    "* Generalized Linear Model"
   ]
  },
  {
   "cell_type": "code",
   "execution_count": 81,
   "metadata": {
    "collapsed": true
   },
   "outputs": [],
   "source": [
    "import numpy as np\n",
    "from sklearn.linear_model import LinearRegression\n",
    "from sklearn.model_selection import cross_val_score\n",
    "from sklearn.preprocessing import MinMaxScaler\n",
    "import statsmodels.tools.tools as sm\n",
    "import matplotlib.pyplot as plt\n",
    "import pandas as pd\n",
    "from numpy import inf\n",
    "from sklearn.model_selection import train_test_split,cross_val_score"
   ]
  },
  {
   "cell_type": "markdown",
   "metadata": {},
   "source": [
    "#### Linear Regression with one feature"
   ]
  },
  {
   "cell_type": "code",
   "execution_count": 70,
   "metadata": {
    "collapsed": true
   },
   "outputs": [],
   "source": [
    "playlists_dataframe = pd.read_json(\"playlists_dataframe_904_with_name_dummy.json\")"
   ]
  },
  {
   "cell_type": "code",
   "execution_count": 79,
   "metadata": {},
   "outputs": [
    {
     "data": {
      "text/html": [
       "<div>\n",
       "<style>\n",
       "    .dataframe thead tr:only-child th {\n",
       "        text-align: right;\n",
       "    }\n",
       "\n",
       "    .dataframe thead th {\n",
       "        text-align: left;\n",
       "    }\n",
       "\n",
       "    .dataframe tbody tr th {\n",
       "        vertical-align: top;\n",
       "    }\n",
       "</style>\n",
       "<table border=\"1\" class=\"dataframe\">\n",
       "  <thead>\n",
       "    <tr style=\"text-align: right;\">\n",
       "      <th></th>\n",
       "      <th>acous_mean</th>\n",
       "      <th>acous_std</th>\n",
       "      <th>avaiable_market</th>\n",
       "      <th>dance_mean</th>\n",
       "      <th>dance_std</th>\n",
       "      <th>energy_mean</th>\n",
       "      <th>energy_std</th>\n",
       "      <th>followers</th>\n",
       "      <th>genre_narrow_blues</th>\n",
       "      <th>genre_narrow_children</th>\n",
       "      <th>...</th>\n",
       "      <th>live_mean</th>\n",
       "      <th>live_std</th>\n",
       "      <th>loud_mean</th>\n",
       "      <th>loud_std</th>\n",
       "      <th>name</th>\n",
       "      <th>pop_mean</th>\n",
       "      <th>pop_std</th>\n",
       "      <th>tracks_num</th>\n",
       "      <th>valence_mean</th>\n",
       "      <th>valence_std</th>\n",
       "    </tr>\n",
       "  </thead>\n",
       "  <tbody>\n",
       "    <tr>\n",
       "      <th>0</th>\n",
       "      <td>0.359143</td>\n",
       "      <td>0.250984</td>\n",
       "      <td>62</td>\n",
       "      <td>0.638020</td>\n",
       "      <td>0.142906</td>\n",
       "      <td>0.524420</td>\n",
       "      <td>0.119544</td>\n",
       "      <td>479208</td>\n",
       "      <td>0</td>\n",
       "      <td>0</td>\n",
       "      <td>...</td>\n",
       "      <td>0.138882</td>\n",
       "      <td>0.104181</td>\n",
       "      <td>-8.670040</td>\n",
       "      <td>2.184986</td>\n",
       "      <td>Underground Hits</td>\n",
       "      <td>55.740000</td>\n",
       "      <td>8.666741</td>\n",
       "      <td>50</td>\n",
       "      <td>0.347734</td>\n",
       "      <td>0.221925</td>\n",
       "    </tr>\n",
       "    <tr>\n",
       "      <th>1</th>\n",
       "      <td>0.229237</td>\n",
       "      <td>0.238325</td>\n",
       "      <td>62</td>\n",
       "      <td>0.605630</td>\n",
       "      <td>0.120167</td>\n",
       "      <td>0.633960</td>\n",
       "      <td>0.162232</td>\n",
       "      <td>698551</td>\n",
       "      <td>0</td>\n",
       "      <td>0</td>\n",
       "      <td>...</td>\n",
       "      <td>0.153161</td>\n",
       "      <td>0.109844</td>\n",
       "      <td>-7.097310</td>\n",
       "      <td>2.163768</td>\n",
       "      <td>Indie Pop</td>\n",
       "      <td>48.420000</td>\n",
       "      <td>9.869326</td>\n",
       "      <td>100</td>\n",
       "      <td>0.442500</td>\n",
       "      <td>0.229449</td>\n",
       "    </tr>\n",
       "    <tr>\n",
       "      <th>10</th>\n",
       "      <td>0.187399</td>\n",
       "      <td>0.191098</td>\n",
       "      <td>62</td>\n",
       "      <td>0.722077</td>\n",
       "      <td>0.097251</td>\n",
       "      <td>0.622862</td>\n",
       "      <td>0.134458</td>\n",
       "      <td>541966</td>\n",
       "      <td>0</td>\n",
       "      <td>0</td>\n",
       "      <td>...</td>\n",
       "      <td>0.166531</td>\n",
       "      <td>0.149703</td>\n",
       "      <td>-7.418354</td>\n",
       "      <td>2.262915</td>\n",
       "      <td>Beach Vibes</td>\n",
       "      <td>48.446154</td>\n",
       "      <td>15.647099</td>\n",
       "      <td>65</td>\n",
       "      <td>0.665046</td>\n",
       "      <td>0.199263</td>\n",
       "    </tr>\n",
       "    <tr>\n",
       "      <th>100</th>\n",
       "      <td>0.691909</td>\n",
       "      <td>0.166908</td>\n",
       "      <td>62</td>\n",
       "      <td>0.522591</td>\n",
       "      <td>0.062916</td>\n",
       "      <td>0.541273</td>\n",
       "      <td>0.123745</td>\n",
       "      <td>7724</td>\n",
       "      <td>0</td>\n",
       "      <td>0</td>\n",
       "      <td>...</td>\n",
       "      <td>0.222882</td>\n",
       "      <td>0.170382</td>\n",
       "      <td>-10.187818</td>\n",
       "      <td>2.339954</td>\n",
       "      <td>Let There Be Bop</td>\n",
       "      <td>27.454545</td>\n",
       "      <td>2.934548</td>\n",
       "      <td>22</td>\n",
       "      <td>0.711000</td>\n",
       "      <td>0.130829</td>\n",
       "    </tr>\n",
       "    <tr>\n",
       "      <th>101</th>\n",
       "      <td>0.250850</td>\n",
       "      <td>0.292580</td>\n",
       "      <td>62</td>\n",
       "      <td>0.470760</td>\n",
       "      <td>0.113546</td>\n",
       "      <td>0.554920</td>\n",
       "      <td>0.182416</td>\n",
       "      <td>5189</td>\n",
       "      <td>1</td>\n",
       "      <td>0</td>\n",
       "      <td>...</td>\n",
       "      <td>0.168464</td>\n",
       "      <td>0.100586</td>\n",
       "      <td>-10.077320</td>\n",
       "      <td>3.124915</td>\n",
       "      <td>Brit Blues</td>\n",
       "      <td>32.080000</td>\n",
       "      <td>18.022031</td>\n",
       "      <td>25</td>\n",
       "      <td>0.584160</td>\n",
       "      <td>0.200569</td>\n",
       "    </tr>\n",
       "  </tbody>\n",
       "</table>\n",
       "<p>5 rows × 37 columns</p>\n",
       "</div>"
      ],
      "text/plain": [
       "     acous_mean  acous_std  avaiable_market  dance_mean  dance_std  \\\n",
       "0      0.359143   0.250984               62    0.638020   0.142906   \n",
       "1      0.229237   0.238325               62    0.605630   0.120167   \n",
       "10     0.187399   0.191098               62    0.722077   0.097251   \n",
       "100    0.691909   0.166908               62    0.522591   0.062916   \n",
       "101    0.250850   0.292580               62    0.470760   0.113546   \n",
       "\n",
       "     energy_mean  energy_std  followers  genre_narrow_blues  \\\n",
       "0       0.524420    0.119544     479208                   0   \n",
       "1       0.633960    0.162232     698551                   0   \n",
       "10      0.622862    0.134458     541966                   0   \n",
       "100     0.541273    0.123745       7724                   0   \n",
       "101     0.554920    0.182416       5189                   1   \n",
       "\n",
       "     genre_narrow_children     ...       live_mean  live_std  loud_mean  \\\n",
       "0                        0     ...        0.138882  0.104181  -8.670040   \n",
       "1                        0     ...        0.153161  0.109844  -7.097310   \n",
       "10                       0     ...        0.166531  0.149703  -7.418354   \n",
       "100                      0     ...        0.222882  0.170382 -10.187818   \n",
       "101                      0     ...        0.168464  0.100586 -10.077320   \n",
       "\n",
       "     loud_std              name   pop_mean    pop_std  tracks_num  \\\n",
       "0    2.184986  Underground Hits  55.740000   8.666741          50   \n",
       "1    2.163768         Indie Pop  48.420000   9.869326         100   \n",
       "10   2.262915       Beach Vibes  48.446154  15.647099          65   \n",
       "100  2.339954  Let There Be Bop  27.454545   2.934548          22   \n",
       "101  3.124915        Brit Blues  32.080000  18.022031          25   \n",
       "\n",
       "     valence_mean  valence_std  \n",
       "0        0.347734     0.221925  \n",
       "1        0.442500     0.229449  \n",
       "10       0.665046     0.199263  \n",
       "100      0.711000     0.130829  \n",
       "101      0.584160     0.200569  \n",
       "\n",
       "[5 rows x 37 columns]"
      ]
     },
     "execution_count": 79,
     "metadata": {},
     "output_type": "execute_result"
    }
   ],
   "source": [
    "# playlists_dataframe = playlists_dataframe.drop([\"artist_pop_mean\",\"artist_pop_std\"],axis=1)\n",
    "playlists_dataframe.head()"
   ]
  },
  {
   "cell_type": "code",
   "execution_count": 132,
   "metadata": {
    "scrolled": false
   },
   "outputs": [
    {
     "name": "stderr",
     "output_type": "stream",
     "text": [
      "C:\\Users\\Haixing\\Anaconda3\\lib\\site-packages\\ipykernel_launcher.py:2: RuntimeWarning: divide by zero encountered in log\n",
      "  \n"
     ]
    },
    {
     "data": {
      "image/png": "[encoded data removed]",
      "text/plain": [
       "<matplotlib.figure.Figure at 0x210d510c9e8>"
      ]
     },
     "metadata": {},
     "output_type": "display_data"
    }
   ],
   "source": [
    "y = playlists_dataframe['followers']\n",
    "y_log = np.log(y)\n",
    "y_log[y_log == -inf] = 0\n",
    "X = playlists_dataframe['pop_mean']\n",
    "\n",
    "X_const = sm.add_constant(X)\n",
    "\n",
    "regression = LinearRegression(fit_intercept=True)\n",
    "regression.fit(X_const, y_log)\n",
    "\n",
    "regression_line = lambda x: regression.coef_[1] * x +regression.intercept_\n",
    "\n",
    "fig, ax = plt.subplots(1, 1, figsize=(10, 10))\n",
    "\n",
    "x_vals = np.linspace(0,100,100)\n",
    "ax.plot(x_vals, regression_line(x_vals), color='red', linewidth=1.0, label='regression line')\n",
    "ax.scatter(X, y_log, color='gray', alpha=0.2, label='data')\n",
    "\n",
    "ax.set_xlabel('Average of Popularity of Tracks in the Playlist')\n",
    "ax.set_ylabel('Log of Number of Followers')\n",
    "ax.set_title('The Relationship Between Average of Popularity of Tracks and Number of Followers')\n",
    "ax.legend(loc='best')\n",
    "plt.show()"
   ]
  },
  {
   "cell_type": "code",
   "execution_count": 82,
   "metadata": {},
   "outputs": [
    {
     "name": "stdout",
     "output_type": "stream",
     "text": [
      "The train MSE is 9.188335367548303, the test MSE is 7.564692068439904\n"
     ]
    },
    {
     "data": {
      "text/plain": [
       "array([ 0.16763925,  0.23816582, -0.44006665, -0.15651203, -0.11731963])"
      ]
     },
     "execution_count": 82,
     "metadata": {},
     "output_type": "execute_result"
    }
   ],
   "source": [
    "X_train, X_test, y_train, y_test = train_test_split(X_const, y_log, test_size=0.33, random_state=6)\n",
    "\n",
    "regression = LinearRegression(fit_intercept=True)\n",
    "regression.fit(X_const, y_log)\n",
    "\n",
    "train_MSE= np.mean((y_train - regression.predict(X_train))**2)\n",
    "test_MSE= np.mean((y_test - regression.predict(X_test))**2)\n",
    "print('The train MSE is {}, the test MSE is {}'.format(train_MSE, test_MSE))\n",
    "\n",
    "score = cross_val_score(estimator = regression, X = X_const, y = y_log , cv=5)\n",
    "score"
   ]
  },
  {
   "cell_type": "code",
   "execution_count": null,
   "metadata": {
    "collapsed": true
   },
   "outputs": [],
   "source": []
  },
  {
   "cell_type": "markdown",
   "metadata": {},
   "source": [
    "#### Linear Regression with all features"
   ]
  },
  {
   "cell_type": "code",
   "execution_count": 133,
   "metadata": {},
   "outputs": [
    {
     "name": "stderr",
     "output_type": "stream",
     "text": [
      "C:\\Users\\Haixing\\Anaconda3\\lib\\site-packages\\ipykernel_launcher.py:2: RuntimeWarning: divide by zero encountered in log\n",
      "  \n"
     ]
    },
    {
     "data": {
      "text/plain": [
       "LinearRegression(copy_X=True, fit_intercept=True, n_jobs=1, normalize=False)"
      ]
     },
     "execution_count": 133,
     "metadata": {},
     "output_type": "execute_result"
    }
   ],
   "source": [
    "y = playlists_dataframe['followers']\n",
    "y_log = np.log(y)\n",
    "y_log[y_log == -inf] = 0\n",
    "X = playlists_dataframe.drop(['followers','name'], axis=1)\n",
    "\n",
    "X_const = sm.add_constant(X)\n",
    "\n",
    "regression = LinearRegression(fit_intercept=True)\n",
    "regression.fit(X_const, y_log)"
   ]
  },
  {
   "cell_type": "code",
   "execution_count": 134,
   "metadata": {},
   "outputs": [
    {
     "name": "stdout",
     "output_type": "stream",
     "text": [
      "The train MSE is 6.554762958961164, the test MSE is 5.208039242968286\n"
     ]
    },
    {
     "data": {
      "text/plain": [
       "array([ 0.35750715,  0.329864  , -0.61316005,  0.31272606,  0.11999228])"
      ]
     },
     "execution_count": 134,
     "metadata": {},
     "output_type": "execute_result"
    }
   ],
   "source": [
    "X_train, X_test, y_train, y_test = train_test_split(X_const, y_log, test_size=0.33, random_state=6)\n",
    "\n",
    "regression = LinearRegression(fit_intercept=True)\n",
    "regression.fit(X_const, y_log)\n",
    "\n",
    "train_MSE= np.mean((y_train - regression.predict(X_train))**2)\n",
    "test_MSE= np.mean((y_test - regression.predict(X_test))**2)\n",
    "print('The train MSE is {}, the test MSE is {}'.format(train_MSE, test_MSE))\n",
    "\n",
    "score = cross_val_score(estimator = regression, X = X_const, y = y_log , cv=5)\n",
    "score"
   ]
  },
  {
   "cell_type": "markdown",
   "metadata": {},
   "source": [
    "#### RidgeRegression"
   ]
  },
  {
   "cell_type": "code",
   "execution_count": 214,
   "metadata": {},
   "outputs": [
    {
     "name": "stdout",
     "output_type": "stream",
     "text": [
      "R2 of the model with Ridge on test set : 0.4706984060312683\n"
     ]
    }
   ],
   "source": [
    "from sklearn.linear_model import Ridge,RidgeCV,Lasso,LassoCV\n",
    "ridge_regression = RidgeCV(alphas=(10.**np.arange(-5, 5)), fit_intercept=True)\n",
    "ridge_regression.fit(X_train, y_train)\n",
    "print('R2 of the model with Ridge on test set : {}'.format(ridge_regression.score(X_test,y_test)))"
   ]
  },
  {
   "cell_type": "markdown",
   "metadata": {},
   "source": [
    "#### LASSO Regression"
   ]
  },
  {
   "cell_type": "code",
   "execution_count": 212,
   "metadata": {},
   "outputs": [
    {
     "name": "stdout",
     "output_type": "stream",
     "text": [
      "R2 of the model with Lasso on test set : 0.4781777376858846\n"
     ]
    }
   ],
   "source": [
    "lasso_regression = LassoCV(alphas=(10.**np.arange(-5, 5)), fit_intercept=True)\n",
    "lasso_regression.fit(X_train, y_train)\n",
    "print('R2 of the model with Lasso on test set : {}'.format(lasso_regression.score(X_test, y_test)))"
   ]
  },
  {
   "cell_type": "markdown",
   "metadata": {},
   "source": [
    "#### Polynomial Regression"
   ]
  },
  {
   "cell_type": "code",
   "execution_count": 202,
   "metadata": {},
   "outputs": [
    {
     "name": "stdout",
     "output_type": "stream",
     "text": [
      "The train MSE for degree 2 poly model is 5.144097257424274, the test MSE is 8.593229989106499\n",
      "The train R^2 for degree 2 poly model is 0.5762198061816981, the test R^2 is 0.11687909332966384\n"
     ]
    }
   ],
   "source": [
    "from sklearn.preprocessing import PolynomialFeatures\n",
    "gen_poly_terms = PolynomialFeatures(degree=2, interaction_only=False)\n",
    "\n",
    "X_train_with_poly = gen_poly_terms.fit_transform(X_train)\n",
    "X_test_with_poly = gen_poly_terms.fit_transform(X_test)\n",
    "\n",
    "poly_regression_model = LinearRegression(fit_intercept=True)\n",
    "poly_regression_model.fit(X_train_with_poly, y_train)\n",
    "\n",
    "train_MSE= np.mean((y_train - poly_regression_model.predict(X_train_with_poly))**2)\n",
    "test_MSE= np.mean((y_test - poly_regression_model.predict(X_test_with_poly))**2)\n",
    "print('The train MSE for degree 2 poly model is {}, the test MSE is {}'.format(train_MSE, test_MSE))\n",
    "\n",
    "train_R_sq = poly_regression_model.score(X_train_with_poly, y_train)\n",
    "test_R_sq = poly_regression_model.score(X_test_with_poly, y_test)\n",
    "print('The train R^2 for degree 2 poly model is {}, the test R^2 is {}'.format(train_R_sq, test_R_sq))"
   ]
  },
  {
   "cell_type": "code",
   "execution_count": 207,
   "metadata": {},
   "outputs": [],
   "source": [
    "train_R_sq = []\n",
    "test_R_sq = []\n",
    "max_deg = 5\n",
    "\n",
    "min_max_scaler = MinMaxScaler()\n",
    "X_train = min_max_scaler.fit_transform(X_train)\n",
    "X_test = min_max_scaler.fit_transform(X_test)\n",
    "\n",
    "for d in range(max_deg + 1):\n",
    "\n",
    "    out = d * 1. / max_deg * 100\n",
    "\n",
    "    gen_poly_terms = PolynomialFeatures(degree=d, interaction_only=False)\n",
    "    X_train_with_poly = gen_poly_terms.fit_transform(X_train)\n",
    "    X_test_with_poly = gen_poly_terms.fit_transform(X_test)\n",
    "    \n",
    "    poly_regression_model = LinearRegression(fit_intercept=False)\n",
    "    poly_regression_model.fit(X_train_with_poly, y_train)\n",
    "    \n",
    "    train_R_sq.append(poly_regression_model.score(X_train_with_poly, y_train))\n",
    "    test_R_sq.append(poly_regression_model.score(X_test_with_poly, y_test))"
   ]
  },
  {
   "cell_type": "code",
   "execution_count": 208,
   "metadata": {},
   "outputs": [
    {
     "data": {
      "text/plain": [
       "([0.0,\n",
       "  0.4170187558068047,\n",
       "  0.57622013971638408,\n",
       "  0.70245807127376159,\n",
       "  0.87207142041927044,\n",
       "  1.0],\n",
       " [-0.022965486740702982,\n",
       "  0.46614571182353076,\n",
       "  -15777451258024084.0,\n",
       "  -1.2409555443452733,\n",
       "  -935.61439805473572,\n",
       "  -96165.889912531216])"
      ]
     },
     "execution_count": 208,
     "metadata": {},
     "output_type": "execute_result"
    }
   ],
   "source": [
    "train_R_sq,test_R_sq"
   ]
  },
  {
   "cell_type": "code",
   "execution_count": 229,
   "metadata": {},
   "outputs": [],
   "source": [
    "upgrade_dataframe = playlists_dataframe[[ 'followers', 'genre_narrow_blues',\n",
    "       'genre_narrow_children', 'genre_narrow_classical', 'genre_narrow_dance',\n",
    "       'genre_narrow_electronic', 'genre_narrow_funk', 'genre_narrow_hardcore',\n",
    "       'genre_narrow_healing', 'genre_narrow_hiphop', 'genre_narrow_jazz',\n",
    "       'genre_narrow_metal', 'genre_narrow_modern', 'genre_narrow_other',\n",
    "       'genre_narrow_pop', 'genre_narrow_rap', 'genre_narrow_rock',\n",
    "       'genre_narrow_soul', 'instru_mean', 'instru_std', 'name', 'pop_mean', 'pop_std',\n",
    "       'tracks_num']]\n",
    "y = upgrade_dataframe['followers']\n",
    "y_log = np.log(y)\n",
    "y_log[y_log == -inf] = 0\n",
    "X = upgrade_dataframe.drop(['followers','name'], axis=1)\n",
    "X_const = sm.add_constant(X)\n",
    "X_train, X_test, y_train, y_test = train_test_split(X_const, y_log, test_size=0.33, random_state=17)"
   ]
  },
  {
   "cell_type": "code",
   "execution_count": 228,
   "metadata": {},
   "outputs": [
    {
     "name": "stdout",
     "output_type": "stream",
     "text": [
      "0.444923294089\n",
      "                 Generalized Linear Model Regression Results                  \n",
      "==============================================================================\n",
      "Dep. Variable:              followers   No. Observations:                  605\n",
      "Model:                            GLM   Df Residuals:                      583\n",
      "Model Family:                 Poisson   Df Model:                           21\n",
      "Link Function:                    log   Scale:                             1.0\n",
      "Method:                          IRLS   Log-Likelihood:                -1529.1\n",
      "Date:                Thu, 07 Dec 2017   Deviance:                       659.21\n",
      "Time:                        17:09:50   Pearson chi2:                     502.\n",
      "No. Iterations:                     4                                         \n",
      "===========================================================================================\n",
      "                              coef    std err          z      P>|z|      [0.025      0.975]\n",
      "-------------------------------------------------------------------------------------------\n",
      "const                       1.5208      0.079     19.282      0.000       1.366       1.675\n",
      "genre_narrow_blues          0.3796      0.087      4.341      0.000       0.208       0.551\n",
      "genre_narrow_children       0.0288      0.327      0.088      0.930      -0.612       0.670\n",
      "genre_narrow_classical      0.1556      0.069      2.252      0.024       0.020       0.291\n",
      "genre_narrow_dance          0.0833      0.062      1.343      0.179      -0.038       0.205\n",
      "genre_narrow_electronic     0.0348      0.084      0.413      0.679      -0.130       0.200\n",
      "genre_narrow_funk           0.1598      0.131      1.223      0.221      -0.096       0.416\n",
      "genre_narrow_hardcore       0.1471      0.175      0.839      0.402      -0.197       0.491\n",
      "genre_narrow_healing       -0.2374      0.140     -1.695      0.090      -0.512       0.037\n",
      "genre_narrow_hiphop         0.1595      0.109      1.466      0.143      -0.054       0.373\n",
      "genre_narrow_jazz           0.0987      0.104      0.945      0.345      -0.106       0.303\n",
      "genre_narrow_metal         -0.0779      0.107     -0.728      0.467      -0.288       0.132\n",
      "genre_narrow_modern        -0.0194      0.067     -0.289      0.773      -0.151       0.112\n",
      "genre_narrow_other          0.1096      0.036      3.062      0.002       0.039       0.180\n",
      "genre_narrow_pop            0.0223      0.046      0.485      0.628      -0.068       0.112\n",
      "genre_narrow_rap            0.0813      0.077      1.061      0.289      -0.069       0.232\n",
      "genre_narrow_rock           0.1034      0.047      2.189      0.029       0.011       0.196\n",
      "genre_narrow_soul           0.2916      0.102      2.861      0.004       0.092       0.491\n",
      "instru_mean                 0.0952      0.075      1.262      0.207      -0.053       0.243\n",
      "instru_std                  0.2416      0.153      1.582      0.114      -0.058       0.541\n",
      "pop_mean                    0.0121      0.001     11.052      0.000       0.010       0.014\n",
      "pop_std                    -0.0097      0.003     -3.418      0.001      -0.015      -0.004\n",
      "tracks_num                  0.0052      0.001      7.671      0.000       0.004       0.007\n",
      "===========================================================================================\n"
     ]
    }
   ],
   "source": [
    "# Load modules and data\n",
    "import statsmodels.api as sm\n",
    "from sklearn.metrics import r2_score\n",
    "# Instantiate a gamma family model with the default link function.\n",
    "poisson_model = sm.GLM(y_train, X_train, family=sm.families.Poisson())\n",
    "\n",
    "poisson_results = poisson_model.fit()\n",
    "\n",
    "y_hat = poisson_results.predict(X_test)\n",
    "print(r2_score(y_test,y_hat))\n",
    "print(poisson_results.summary())"
   ]
  },
  {
   "cell_type": "code",
   "execution_count": null,
   "metadata": {},
   "outputs": [],
   "source": []
  },
  {
   "cell_type": "code",
   "execution_count": 169,
   "metadata": {},
   "outputs": [
    {
     "data": {
      "image/png": "[encoded data removed]",
      "text/plain": [
       "<matplotlib.figure.Figure at 0x210da398ef0>"
      ]
     },
     "metadata": {},
     "output_type": "display_data"
    }
   ],
   "source": [
    "plt.matshow(dataframe.corr())\n",
    "plt.show()"
   ]
  },
  {
   "cell_type": "code",
   "execution_count": null,
   "metadata": {},
   "outputs": [],
   "source": []
  },
  {
   "cell_type": "code",
   "execution_count": null,
   "metadata": {},
   "outputs": [],
   "source": []
  },
  {
   "cell_type": "code",
   "execution_count": null,
   "metadata": {
    "collapsed": true
   },
   "outputs": [],
   "source": []
  }
 ],
 "metadata": {
  "kernelspec": {
   "display_name": "Python 3",
   "language": "python",
   "name": "python3"
  },
  "language_info": {
   "codemirror_mode": {
    "name": "ipython",
    "version": 3
   },
   "file_extension": ".py",
   "mimetype": "text/x-python",
   "name": "python",
   "nbconvert_exporter": "python",
   "pygments_lexer": "ipython3",
   "version": "3.6.1"
  }
 },
 "nbformat": 4,
 "nbformat_minor": 2
}
