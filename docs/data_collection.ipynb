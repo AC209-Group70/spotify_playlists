{
 "cells": [
  {
   "cell_type": "markdown",
   "metadata": {},
   "source": [
    "# Spotify Data"
   ]
  },
  {
   "cell_type": "markdown",
   "metadata": {},
   "source": [
    "## data collection"
   ]
  },
  {
   "cell_type": "markdown",
   "metadata": {},
   "source": [
    "* Use Spotipy to get Spotify public playlists data\n",
    "* For each playlist, we get our response variable: # of followers\n",
    "* For predictors, we pick the following attributes:\n",
    "    * the number of tracks in the playlist\n",
    "    * Audio Features\n",
    "        * Popularity\n",
    "        * Acousticness\n",
    "        * Danceability\n",
    "        * Instrumentalness\n",
    "        * Liveness\n",
    "        * Loudness\n",
    "        * Valence\n",
    "    * Artists Information \n",
    "        * Genre\n",
    "        * Popularity\n",
    "    * Avaiable markets: if this playlist can reach wider range, it might get more followers\n",
    "\n",
    "In total, we are getting 18 features for now."
   ]
  },
  {
   "cell_type": "code",
   "execution_count": 181,
   "metadata": {
    "collapsed": true
   },
   "outputs": [],
   "source": [
    "import pandas as pd \n",
    "import numpy as np\n",
    "import spotipy\n",
    "from spotipy.oauth2 import SpotifyClientCredentials\n",
    "\n",
    "client_credentials_manager = SpotifyClientCredentials(client_id, client_secret)\n",
    "sp = spotipy.Spotify(client_credentials_manager=client_credentials_manager)\n",
    "\n",
    "playlists = sp.user_playlists('spotify')\n",
    "playlists_data = []\n",
    "while playlists:\n",
    "    for i, playlist in enumerate(playlists['items']):\n",
    "        playlist_data = {}\n",
    "        playlist_data[\"songs\"] = []\n",
    "        \n",
    "        uri = playlist[\"uri\"]\n",
    "        username = uri.split(':')[2]\n",
    "        playlist_id = uri.split(':')[4]\n",
    "        \n",
    "        results = sp.user_playlist(username, playlist_id)\n",
    "        \n",
    "        playlist_data[\"playlist_id\"] = playlist_id\n",
    "\n",
    "        playlist_data[\"followers\"] = results['followers']['total']\n",
    "        \n",
    "        playlist_data[\"tracks_num\"] = playlist['tracks']['total']\n",
    "        \n",
    "        playlist_data[\"name\"] = playlist[\"name\"]\n",
    "        if i%100 == 0:\n",
    "            print(i,playlist_data[\"name\"])\n",
    "        \n",
    "        tracks = sp.user_playlist_tracks(\"spotify\",playlist_id)\n",
    "        markets = []\n",
    "        pop = []\n",
    "        for j in range(tracks_num):\n",
    "            try:\n",
    "                playlist_data[\"songs\"].append(tracks[\"items\"][j][\"track\"]['name']) \n",
    "                \n",
    "                market = tracks[\"items\"][i][\"track\"][\"available_markets\"]\n",
    "                markets = list(set().union(markets,market))\n",
    "                \n",
    "                pop.append(tracks[\"items\"][j][\"track\"]['popularity'])\n",
    "                \n",
    "            except:\n",
    "                continue\n",
    "        playlist_data[\"avaiable_market\"] = len(markets)\n",
    "        if pop != []:\n",
    "            playlist_data[\"pop_mean\"] = np.mean(pop)\n",
    "            playlist_data[\"pop_std\"] = np.std(pop)\n",
    "        else:\n",
    "            playlist_data[\"pop_mean\"] = np.nan\n",
    "            playlist_data[\"pop_std\"] = np.nan\n",
    "\n",
    "        playlists_data.append(playlist_data)\n",
    "    \n",
    "    if playlists['next']:\n",
    "        playlists = sp.next(playlists)\n",
    "    else:\n",
    "        playlists = None"
   ]
  },
  {
   "cell_type": "code",
   "execution_count": null,
   "metadata": {
    "collapsed": true
   },
   "outputs": [],
   "source": [
    "# def audio_features(self, tracks=[]):\n",
    "#     \"\"\" Get audio features for one or multiple tracks based upon their Spotify IDs\n",
    "#     Parameters:\n",
    "#     - tracks - a list of track URIs, URLs or IDs, maximum: 50 ids\n",
    "#     \"\"\"\n",
    "#     if isinstance(tracks, str):\n",
    "#         trackid = self._get_id('track', tracks)\n",
    "#         results = self._get('audio-features/?ids=' + trackid)\n",
    "#     else:\n",
    "#         tlist = [self._get_id('track', t) for t in tracks]\n",
    "#         results = self._get('audio-features/?ids=' + ','.join(tlist))\n",
    "#     # the response has changed, look for the new style first, and if\n",
    "#     # its not there, fallback on the old style\n",
    "#     if 'audio_features' in results:\n",
    "#         return results['audio_features']\n",
    "#     else:\n",
    "#         return results"
   ]
  },
  {
   "cell_type": "code",
   "execution_count": null,
   "metadata": {
    "collapsed": true
   },
   "outputs": [],
   "source": [
    "start = 0\n",
    "end = 1700\n",
    "for i, playlist in enumerate(pl_more[start:end]):\n",
    "    for j, track in enumerate(playlist['tracks']):\n",
    "        if track != None:\n",
    "            try:\n",
    "                track_audio=sp.audio_features(track['id'])\n",
    "                if track_audio[0] != None and track_audio!=None:\n",
    "                    pl_more[i+start]['tracks'][j].update(track_audio[0])\n",
    "                if (type(track['artists'])==list):\n",
    "                    track_artist = sp.search(q='artist:'+track['artists'][0]['name'], type='artist')\n",
    "                elif (type(track['artists'])==dict):   \n",
    "                    track_artist = sp.search(q='artist:'+track['artists'][\"items\"][0]['name'], type='artist')\n",
    "                else:\n",
    "                    print(i+start,\"no artist\")\n",
    "                    track_artist = None\n",
    "                if track_artist:\n",
    "                    pl_more[i+start]['tracks'][j].update(track_artist)  \n",
    "            except:\n",
    "                print(\"!!\",i+start)\n",
    "    print(i+start)"
   ]
  },
  {
   "cell_type": "markdown",
   "metadata": {},
   "source": [
    "## Store data in json form and read"
   ]
  },
  {
   "cell_type": "code",
   "execution_count": 2,
   "metadata": {
    "collapsed": true
   },
   "outputs": [],
   "source": [
    "import json\n",
    "# with open(\"playlists_data.json\",\"w\") as js:\n",
    "#     json.dump(playlists_data,js)\n",
    "# playlists_dataframe = pd.DataFrame.from_dict(playlists_data)\n",
    "# playlists_dataframe.to_json(\"playlists_df.json\")"
   ]
  },
  {
   "cell_type": "code",
   "execution_count": 3,
   "metadata": {
    "collapsed": true
   },
   "outputs": [],
   "source": [
    "# playlists_dataframe= pd.read_json(\"playlists_df.json\")\n",
    "with open('data_1700.json','r') as js:\n",
    "    playlists_data=json.load(js)"
   ]
  },
  {
   "cell_type": "markdown",
   "metadata": {
    "collapsed": true
   },
   "source": [
    "## Feature Engineering"
   ]
  },
  {
   "cell_type": "code",
   "execution_count": 2,
   "metadata": {
    "collapsed": true
   },
   "outputs": [],
   "source": [
    "import json\n",
    "with open('data_1700.json','r') as js:\n",
    "    pl_1700=json.load(js)"
   ]
  },
  {
   "cell_type": "code",
   "execution_count": 1,
   "metadata": {},
   "outputs": [],
   "source": [
    "playlists_data = []\n",
    "for pl in pl_1700:\n",
    "    try:\n",
    "        playlist_data = {}\n",
    "\n",
    "        # followers\n",
    "        # tracks_num\n",
    "        playlist_data[\"name\"] = pl[\"list\"][\"name\"]\n",
    "        playlist_data[\"followers\"] = pl[\"list\"][\"followers\"][\"total\"]\n",
    "        playlist_data[\"tracks_num\"] = pl[\"list\"][\"tracks\"][\"total\"]\n",
    "\n",
    "        # market \n",
    "        # popularity\n",
    "        markets = []\n",
    "        gen = []\n",
    "        artist_pop = []\n",
    "        pop = []\n",
    "        acous = []\n",
    "        dance = []\n",
    "        energy = []\n",
    "        instru = []\n",
    "        live = []\n",
    "        loud = []\n",
    "        valence = []\n",
    "        for j in range(playlist_data[\"tracks_num\"]):\n",
    "\n",
    "\n",
    "            market = pl[\"tracks\"][j][\"available_markets\"]\n",
    "            markets = list(set().union(markets,market))\n",
    "            gen.extend(pl[\"tracks\"][j][\"artists\"][\"items\"][0][\"genres\"])\n",
    "            artist_pop.append(pl[\"tracks\"][j][\"artists\"][\"items\"][0][\"popularity\"])\n",
    "\n",
    "            pop.append(pl[\"tracks\"][j]['popularity'])\n",
    "            acous.append(pl[\"tracks\"][j]['acousticness'])\n",
    "            dance.append(pl[\"tracks\"][j]['danceability'])\n",
    "            energy.append(pl[\"tracks\"][j]['energy'])\n",
    "            instru.append(pl[\"tracks\"][j]['instrumentalness'])\n",
    "            live.append(pl[\"tracks\"][j]['liveness'])\n",
    "            loud.append(pl[\"tracks\"][j]['loudness'])\n",
    "            valence.append(pl[\"tracks\"][j]['valence'])\n",
    "\n",
    "        playlist_data[\"avaiable_market\"] = len(markets)\n",
    "\n",
    "        c = Counter(gen)\n",
    "        playlist_data[\"genre\"] = c.most_common()[0][0]\n",
    "        \n",
    "        if artist_pop != []:\n",
    "            playlist_data[\"artist_pop_mean\"] = np.mean(artist_pop)\n",
    "            playlist_data[\"artist_pop_std\"] = np.std(artist_pop)\n",
    "        else:\n",
    "            playlist_data[\"artist_pop_mean\"] = np.nan\n",
    "            playlist_data[\"artist_pop_std\"] = np.nan \n",
    "\n",
    "        if pop != []:\n",
    "            playlist_data[\"pop_mean\"] = np.mean(pop)\n",
    "            playlist_data[\"pop_std\"] = np.std(pop)\n",
    "        else:\n",
    "            playlist_data[\"pop_mean\"] = np.nan\n",
    "            playlist_data[\"pop_std\"] = np.nan\n",
    "\n",
    "        if acous != []:\n",
    "            playlist_data[\"acous_mean\"] = np.mean(acous)\n",
    "            playlist_data[\"acous_std\"] = np.std(acous)\n",
    "        else:\n",
    "            playlist_data[\"acous_mean\"] = np.nan\n",
    "            playlist_data[\"acous_std\"] = np.nan     \n",
    "\n",
    "        if dance != []:\n",
    "            playlist_data[\"dance_mean\"] = np.mean(dance)\n",
    "            playlist_data[\"dance_std\"] = np.std(dance)\n",
    "        else:\n",
    "            playlist_data[\"dance_mean\"] = np.nan\n",
    "            playlist_data[\"dance_std\"] = np.nan\n",
    "\n",
    "        if energy != []:\n",
    "            playlist_data[\"energy_mean\"] = np.mean(energy)\n",
    "            playlist_data[\"energy_std\"] = np.std(energy)\n",
    "        else:\n",
    "            playlist_data[\"energy_mean\"] = np.nan\n",
    "            playlist_data[\"energy_std\"] = np.nan\n",
    "\n",
    "        if instru != []:\n",
    "            playlist_data[\"instru_mean\"] = np.mean(instru)\n",
    "            playlist_data[\"instru_std\"] = np.std(instru)\n",
    "        else:\n",
    "            playlist_data[\"instru_mean\"] = np.nan\n",
    "            playlist_data[\"instru_std\"] = np.nan\n",
    "\n",
    "        if live != []:\n",
    "            playlist_data[\"live_mean\"] = np.mean(live)\n",
    "            playlist_data[\"live_std\"] = np.std(live)\n",
    "        else:\n",
    "            playlist_data[\"live_mean\"] = np.nan\n",
    "            playlist_data[\"live_std\"] = np.nan\n",
    "\n",
    "        if loud != []:\n",
    "            playlist_data[\"loud_mean\"] = np.mean(loud)\n",
    "            playlist_data[\"loud_std\"] = np.std(loud)\n",
    "        else:\n",
    "            playlist_data[\"loud_mean\"] = np.nan\n",
    "            playlist_data[\"loud_std\"] = np.nan\n",
    "\n",
    "        if valence != []:\n",
    "            playlist_data[\"valence_mean\"] = np.mean(valence)\n",
    "            playlist_data[\"valence_std\"] = np.std(valence)\n",
    "        else:\n",
    "            playlist_data[\"valence_mean\"] = np.nan\n",
    "            playlist_data[\"valence_std\"] = np.nan\n",
    "\n",
    "        playlists_data.append(playlist_data)\n",
    "    except:\n",
    "        continue"
   ]
  },
  {
   "cell_type": "code",
   "execution_count": null,
   "metadata": {
    "collapsed": true
   },
   "outputs": [],
   "source": [
    "playlists_dataframe = pd.DataFrame.from_dict(playlists_data)"
   ]
  },
  {
   "cell_type": "code",
   "execution_count": 16,
   "metadata": {},
   "outputs": [],
   "source": [
    "# playlists_dataframe = pd.read_json(\"playlists_dataframe_904_with_name.json\")"
   ]
  },
  {
   "cell_type": "code",
   "execution_count": 17,
   "metadata": {
    "collapsed": true
   },
   "outputs": [],
   "source": [
    "df = playlists_dataframe.copy()\n",
    "df[\"genre_narrow\"] = \"\"\n",
    "df.loc[df[\"genre\"].str.contains('pop'),\"genre_narrow\"] = \"pop\"\n",
    "df.loc[df[\"genre\"].str.contains('metal'),\"genre_narrow\"] = \"metal\"\n",
    "df.loc[df[\"genre\"].str.contains('jazz'),\"genre_narrow\"] = \"jazz\"\n",
    "df.loc[df[\"genre\"].str.contains('rock'),\"genre_narrow\"] = \"rock\"\n",
    "df.loc[df[\"genre\"].str.contains('punk'),\"genre_narrow\"] = \"punk\"\n",
    "df.loc[df[\"genre\"].str.contains('hop'),\"genre_narrow\"] = \"hiphop\"\n",
    "df.loc[df[\"genre\"].str.contains('new'),\"genre_narrow\"] = \"modern\"\n",
    "df.loc[df[\"genre\"].str.contains('post'),\"genre_narrow\"] = \"modern\"\n",
    "df.loc[df[\"genre\"].str.contains('modern'),\"genre_narrow\"] = \"modern\"\n",
    "df.loc[df[\"genre\"].str.contains('classical'),\"genre_narrow\"] = \"classical\"\n",
    "df.loc[df[\"genre\"].str.contains('soul'),\"genre_narrow\"] = \"soul\"\n",
    "df.loc[df[\"genre\"].str.contains('blues'),\"genre_narrow\"] = \"blues\"\n",
    "df.loc[df[\"genre\"].str.contains('core'),\"genre_narrow\"] = \"hardcore\"\n",
    "df.loc[df[\"genre\"].str.contains('children'),\"genre_narrow\"] = \"children\"\n",
    "df.loc[df[\"genre\"].str.contains('dance'),\"genre_narrow\"] = \"dance\"\n",
    "df.loc[df[\"genre\"].str.contains('rap'),\"genre_narrow\"] = \"rap\"\n",
    "df.loc[df[\"genre\"].str.contains('drama'),\"genre_narrow\"] = \"drama\"\n",
    "df.loc[df[\"genre\"].str.contains('funk'),\"genre_narrow\"] = \"funk\"\n",
    "df.loc[df[\"genre\"].str.contains('edm'),\"genre_narrow\"] = \"electronic\"\n",
    "df.loc[df[\"genre\"].str.contains('electronic'),\"genre_narrow\"] = \"electronic\"\n",
    "df.loc[df[\"genre\"].str.contains('ambient'),\"genre_narrow\"] = \"healing\"\n",
    "df.loc[df[\"genre\"].str.contains('environmental'),\"genre_narrow\"] = \"healing\"\n",
    "df.loc[df[\"genre\"].str.contains('healing'),\"genre_narrow\"] = \"healing\"\n",
    "df.loc[df[\"genre\"].str.contains('hollywood'),\"genre_narrow\"] = \"hollywood\"\n",
    "df.loc[df[\"genre_narrow\"]== \"\",\"genre_narrow\"] = \"other\""
   ]
  },
  {
   "cell_type": "code",
   "execution_count": 18,
   "metadata": {},
   "outputs": [],
   "source": [
    "df = df.drop([\"genre\"],axis=1)\n",
    "df_with_dummies = pd.get_dummies(df, columns = [\"genre_narrow\"])"
   ]
  },
  {
   "cell_type": "code",
   "execution_count": 23,
   "metadata": {},
   "outputs": [],
   "source": [
    "df_with_dummies.to_json(\"playlists_dataframe_904_with_name_dummy.json\")"
   ]
  },
  {
   "cell_type": "code",
   "execution_count": 9,
   "metadata": {},
   "outputs": [],
   "source": [
    "# df.to_csv(\"playlists_dataframe_841_narrow_genre.csv\")"
   ]
  },
  {
   "cell_type": "markdown",
   "metadata": {},
   "source": [
    "## Data Description (Feature table)"
   ]
  },
  {
   "cell_type": "markdown",
   "metadata": {},
   "source": [
    "Now, we have 1700 playlists with 21 features. The following are the details about each features. (More analysis, see EDA page)\n",
    "\n",
    "\n",
    "| Key                             | Value Type   | Value Description                                                                                                                                                                                                                                                                                                                                                                                                    | Feature Engineering                                                                                                                 |\n",
    "|---------------------------------|--------------|----------------------------------------------------------------------------------------------------------------------------------------------------------------------------------------------------------------------------------------------------------------------------------------------------------------------------------------------------------------------------------------------------------------------|-------------------------------------------------------------------------------------------------------------------------------------|\n",
    "| followers                       | int          | Number of Followers: from 0 to inf, indicate how many people follow this playlist.                                                                                                                                                                                                                                                                                                                                   | Probably need to do some log transformation later.                                                                                  |\n",
    "| acous_mean  acous_std           | float  float | Acousticness: A confidence measure from 0.0 to 1.0 of whether the track is acoustic. 1.0 represents high confidence the track is acoustic.                                                                                                                                                                                                                                                                           | Get the mean/standard deviation of acousticness for all track in the playlist.                                                      |\n",
    "| artist_pop_mean  artist_pop_std | float  float | Popularity (Artist): How popular this artist is and measured from 0.0 to 100.0. 100.0 represents most popular.                                                                                                                                                                                                                                                                                                       | Get the mean/standard deviation of popularity for all artists in each track inside one playlist.                                    |\n",
    "| avaiable_market                 | int          | The number of available markets: how many possible markets can download/listen to this playlist.                                                                                                                                                                                                                                                                                                                     | Convert lists of available markets to numbers, and get the maximum number of market for all tracks in the playlist.                 |\n",
    "| dance_mean  dance_std           | float  float | Danceability describes how suitable a track is for dancing based on a combination of musical elements including tempo, rhythm stability, beat strength, and overall regularity. A value of 0.0 is least danceable and 1.0 is most danceable.                                                                                                                                                                         | Get the mean/standard deviation of danceability for all track inside one playlist.                                                  |\n",
    "| energy_mean  energy_std         | float  float | Energy is a measure from 0.0 to 1.0 and represents a perceptual measure of intensity and activity. Typically, energetic tracks feel fast, loud, and noisy. For example, death metal has high energy, while a Bach prelude scores low on the scale. Perceptual features contributing to this attribute include dynamic range, perceived loudness, timbre, onset rate, and general entropy.                            | Get the mean/standard deviation of energy for all track inside one playlist.                                                        |\n",
    "| instru_mean  instru_std         | float  float | Instrumentalness: Predicts whether a track contains no vocals. \"Ooh\" and \"aah\" sounds are treated as instrumental in this context. Rap or spoken word tracks are clearly \"vocal\". The closer the instrumentalness value is to 1.0, the greater likelihood the track contains no vocal content. Values above 0.5 are intended to represent instrumental tracks, but confidence is higher as the value approaches 1.0. | Get the mean/standard deviation of instrumentalness for all track inside one playlist.                                              |\n",
    "| live_mean  live_std             | float  float | Liveness: Detects the presence of an audience in the recording. Higher liveness values represent an increased probability that the track was performed live. A value above 0.8 provides strong likelihood that the track is live.                                                                                                                                                                                    | Get the mean/standard deviation of liveness for all track inside one playlist.                                                      |\n",
    "| loud_mean  loud_std             | float  float | Loudness: The overall loudness of a track in decibels (dB). Loudness values are averaged across the entire track and are useful for comparing relative loudness of tracks. Loudness is the quality of a sound that is the primary psychological correlate of physical strength (amplitude). Values typical range between -60 and 0 db.                                                                               | Get the mean/standard deviation of loudness for all track inside one playlist.                                                      |\n",
    "| pop_mean  pop_std               | float  float | Popularity (track): How popular this artist is and measured from 0.0 to 100.0. 100.0 represents most popular.                                                                                                                                                                                                                                                                                                        | Get the mean/standard deviation of popularity for all track inside one playlist. Need to check the collinearity with pop of artist. |\n",
    "| tracks_num                      | int          | How many tracks are inside this playlist. From 0 to inf.                                                                                                                                                                                                                                                                                                                                                             |                                                                                                                                     |\n",
    "| valence_mean   valence_std      | float  float | Valence: A measure from 0.0 to 1.0 describing the musical positiveness conveyed by a track. Tracks with high valence sound more positive (e.g. happy, cheerful, euphoric), while tracks with low valence sound more negative (e.g. sad, depressed, angry).                                                                                                                                                           | Get the mean/standard deviation of valence for all track inside one playlist.                                                       |\n",
    "| genre_narrow                    | string       | Genre: From over 130 genres, narrow down to 20 general genres. For example: \"pop\", \"rap\", \"classical\", etc.                               \n",
    "\n",
    "\n",
    "\n"
   ]
  },
  {
   "cell_type": "code",
   "execution_count": null,
   "metadata": {
    "collapsed": true
   },
   "outputs": [],
   "source": []
  }
 ],
 "metadata": {
  "kernelspec": {
   "display_name": "Python 3",
   "language": "python",
   "name": "python3"
  },
  "language_info": {
   "codemirror_mode": {
    "name": "ipython",
    "version": 3
   },
   "file_extension": ".py",
   "mimetype": "text/x-python",
   "name": "python",
   "nbconvert_exporter": "python",
   "pygments_lexer": "ipython3",
   "version": "3.6.1"
  }
 },
 "nbformat": 4,
 "nbformat_minor": 2
}
