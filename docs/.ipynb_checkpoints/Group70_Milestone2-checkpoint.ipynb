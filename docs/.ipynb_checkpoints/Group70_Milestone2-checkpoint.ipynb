{
 "cells": [
  {
   "cell_type": "markdown",
   "metadata": {},
   "source": [
    "# Milestone 2\n",
    "## Group 70 - Spotify\n",
    "\n",
    "1.  Group Number :- **70 (Spotify)**\n",
    "2. Have you met/communicated with your fellow teammates? :- **Yes**\n",
    "3. Have you met/communicated with your assigned TF? :- **Yes**\n",
    "4. Has your team formulated a well-defined question to address in your project, based on the project description and references? :- **Yes. Added below**\n",
    "5. Briefly describe your team’s plans for work to be completed by Nov 28 (milestone three). :- **Added below**\n",
    "\n"
   ]
  },
  {
   "cell_type": "markdown",
   "metadata": {},
   "source": [
    "## Project Statement"
   ]
  },
  {
   "cell_type": "markdown",
   "metadata": {},
   "source": [
    "Given specific genre, what are the common attributes that contribute most to the **hottest** playlist?\n",
    "Based on these attributes, can we generate a playlist that guarantees **success**?\n",
    "\n",
    "`Hottest` :- The playlist having most number of followers\n",
    "\n",
    "`Success` :- Playlists having relatively large number of followers"
   ]
  },
  {
   "cell_type": "markdown",
   "metadata": {},
   "source": [
    "## Project Plan\n",
    "\n",
    "- By 11/22\n",
    "\n",
    "    Divyam Misra :- Million Song Dataset (subset) collection and cleaning\n",
    "\n",
    "    Haixing Yin :- Spotify API data collection and cleaning\n",
    "         \n",
    "- By 11/26\n",
    "\n",
    "    Divyam Misra :- Feature Engineering of Million Song Dataset and EDA\n",
    "\n",
    "    Zhai Yi:- Spotify dataset EDA\n",
    "             \n",
    "- By 11/27\n",
    "\n",
    "    Haixing Yin :- Write the decription of data for Milestone 3 and Summarize EDA findings.\n",
    "\n",
    "- 11/28\n",
    "\n",
    "    Meetup to discuss final version of Milestone 3 and submit.\n",
    "\n"
   ]
  },
  {
   "cell_type": "markdown",
   "metadata": {},
   "source": []
  }
 ],
 "metadata": {
  "kernelspec": {
   "display_name": "Python 3",
   "language": "python",
   "name": "python3"
  },
  "language_info": {
   "codemirror_mode": {
    "name": "ipython",
    "version": 3
   },
   "file_extension": ".py",
   "mimetype": "text/x-python",
   "name": "python",
   "nbconvert_exporter": "python",
   "pygments_lexer": "ipython3",
   "version": "3.6.1"
  }
 },
 "nbformat": 4,
 "nbformat_minor": 2
}
